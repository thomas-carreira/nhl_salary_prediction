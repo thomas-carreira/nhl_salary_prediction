{
 "cells": [
  {
   "cell_type": "code",
   "execution_count": 629,
   "metadata": {},
   "outputs": [],
   "source": [
    "import pandas as pd\n",
    "import numpy as np\n",
    "\n",
    "train_set = pd.read_csv(r'train.csv')\n",
    "test_set = pd.read_csv(r'test.csv')\n",
    "x = train_set.drop(columns=[\"Id\", \"Salary\", \"DOB\", \"PIMGP\"]).to_numpy()\n",
    "y = train_set.loc[:, [\"Salary\"]].to_numpy()[:,0]\n",
    "test = test_set.drop(columns=[\"Id\", \"DOB\", \"PIMGP\"]).to_numpy()"
   ]
  },
  {
   "cell_type": "code",
   "execution_count": 630,
   "metadata": {},
   "outputs": [],
   "source": [
    "x_n = (x - x.mean(0)) / x.std(0)\n",
    "y_n = (y - y.mean()) / y.std()\n",
    "test_n = (test - test.mean(0)) / test.std(0)"
   ]
  },
  {
   "cell_type": "code",
   "execution_count": 631,
   "metadata": {},
   "outputs": [],
   "source": [
    "x_train = np.array_split(x_n, 6)\n",
    "x_test = x_train[5]\n",
    "x_train = np.delete(x_train, 5, 0)\n",
    "\n",
    "y_train = np.array_split(y_n, 6)\n",
    "y_test = y_train[5]\n",
    "y_train = np.delete(y_train, 5, 0)"
   ]
  },
  {
   "cell_type": "code",
   "execution_count": 632,
   "metadata": {},
   "outputs": [],
   "source": [
    "def get_phi(x, indexes=None, degree=1):\n",
    "    if degree == 1:\n",
    "        degrees = np.arange(degree+1)\n",
    "        phi = np.tile(x, [degree+1,1]).T\n",
    "        phi = phi**degrees\n",
    "    else:\n",
    "#         phi = np.append(np.ones((1, x.shape[0])), x.T[indexes], axis=0).T\n",
    "        phi = np.tile(x.T[indexes], [degree,1])\n",
    "        degrees = np.linspace(1, degree+1, phi.shape[0]+1, dtype=int)\n",
    "        degrees = np.delete(degrees, phi.shape[0])\n",
    "        phi = phi.T**degrees\n",
    "        phi = np.c_[phi, np.ones((x.shape[0], 1))]\n",
    "    return phi"
   ]
  },
  {
   "cell_type": "code",
   "execution_count": 633,
   "metadata": {},
   "outputs": [],
   "source": [
    "def poly_regr(x, y, indexes=None, degree=1):\n",
    "    phi = get_phi(x, indexes, degree)\n",
    "    w = None\n",
    "    try :\n",
    "        w = np.linalg.inv(phi.T.dot(phi)).dot(phi.T.dot(y))\n",
    "        y_pred = phi.dot(w) \n",
    "        rmse = np.sqrt(np.sum((y - y_pred)**2)/y_pred.size)\n",
    "    except np.linalg.LinAlgError:\n",
    "        rmse = 100\n",
    "    \n",
    "    return (w, rmse)"
   ]
  },
  {
   "cell_type": "code",
   "execution_count": 634,
   "metadata": {},
   "outputs": [],
   "source": [
    "def get_best_attributes_from_x(x, y, degree, nb_max_attributes):\n",
    "    x = x.T\n",
    "    best_attributes = np.full((nb_max_attributes), -1)\n",
    "    for i in range(nb_max_attributes):\n",
    "        best_rmse = 2\n",
    "        id_best_rmse = None\n",
    "        for j in range(x.shape[0]):\n",
    "            w, rmse = poly_regr(x[j], y)\n",
    "            if rmse < best_rmse and np.argwhere(best_attributes==j).size == 0 :\n",
    "                best_rmse = rmse\n",
    "                id_best_rmse = j\n",
    "        best_attributes[i] = id_best_rmse\n",
    "\n",
    "    return best_attributes"
   ]
  },
  {
   "cell_type": "code",
   "execution_count": 635,
   "metadata": {},
   "outputs": [],
   "source": [
    "def get_best_attributes(x, y, degree, nb_attributes):\n",
    "    best_indexes = None\n",
    "    best_rmse = 2\n",
    "    \n",
    "    for i in range(len(x)):\n",
    "        indexes = get_best_attributes_from_x(x[i], y[i], degree, nb_attributes)\n",
    "        w, rmse = poly_regr(x[i], y[i], indexes, degree)\n",
    "\n",
    "        if rmse < best_rmse:\n",
    "            best_rmse = rmse\n",
    "            best_indexes = indexes   \n",
    "            \n",
    "    return best_indexes"
   ]
  },
  {
   "cell_type": "code",
   "execution_count": 636,
   "metadata": {},
   "outputs": [],
   "source": [
    "def get_all_w(x, y, indexes, degree):\n",
    "    all_w = np.zeros((len(indexes)*degree+1, len(x)))\n",
    "\n",
    "    for i in range(len(x)):\n",
    "        w, rmse = poly_regr(x[i], y[i], indexes, degree)\n",
    "        all_w.T[i] = w\n",
    "        \n",
    "    return all_w"
   ]
  },
  {
   "cell_type": "code",
   "execution_count": 637,
   "metadata": {},
   "outputs": [],
   "source": [
    "degree = 2\n",
    "nb_attributes = 5\n",
    "best_indexes = get_best_attributes(x_train, y_train, degree, nb_attributes)"
   ]
  },
  {
   "cell_type": "code",
   "execution_count": 638,
   "metadata": {},
   "outputs": [
    {
     "name": "stdout",
     "output_type": "stream",
     "text": [
      "0.7208192548835631\n"
     ]
    }
   ],
   "source": [
    "all_w = get_all_w(x_train, y_train, best_indexes, degree)\n",
    "phi = get_phi(x_test, best_indexes, degree)\n",
    "y_pred = phi.dot(all_w)\n",
    "y_test_pred_avg = np.mean(y_pred, axis=1)\n",
    "rmse = np.sqrt(np.sum((y_test - y_test_pred_avg)**2)/y_test.size)\n",
    "\n",
    "print(rmse)"
   ]
  },
  {
   "cell_type": "code",
   "execution_count": 639,
   "metadata": {},
   "outputs": [],
   "source": [
    "def test_data(x, y, all_w, indexes, degree=1):\n",
    "    phi = get_phi(x, indexes, degree)\n",
    "    y_pred_n = phi.dot(all_w)\n",
    "    y_test_pred_avg = np.mean(y_pred_n, axis=1)\n",
    "    y_pred = (y.std() * y_test_pred_avg) + y.mean()\n",
    "    \n",
    "    return y_pred"
   ]
  },
  {
   "cell_type": "code",
   "execution_count": 640,
   "metadata": {},
   "outputs": [],
   "source": [
    "y_pred = test_data(test_n, y, all_w, best_indexes, degree)"
   ]
  },
  {
   "cell_type": "code",
   "execution_count": 628,
   "metadata": {},
   "outputs": [],
   "source": [
    "df = pd.DataFrame({\"Id\": range(y_pred.size), \"Salary\": y_pred})\n",
    "compression_opts = dict(method='zip', archive_name='out.csv') \n",
    "df.to_csv('sampleSubmission.zip', index=False, compression=compression_opts)"
   ]
  },
  {
   "cell_type": "code",
   "execution_count": 219,
   "metadata": {},
   "outputs": [],
   "source": [
    "# 0.7486788923831885\n",
    "# 0.6411587970232053\n",
    "# 0.556122848172312"
   ]
  }
 ],
 "metadata": {
  "kernelspec": {
   "display_name": "Python 3",
   "language": "python",
   "name": "python3"
  },
  "language_info": {
   "codemirror_mode": {
    "name": "ipython",
    "version": 3
   },
   "file_extension": ".py",
   "mimetype": "text/x-python",
   "name": "python",
   "nbconvert_exporter": "python",
   "pygments_lexer": "ipython3",
   "version": "3.8.5"
  }
 },
 "nbformat": 4,
 "nbformat_minor": 4
}
