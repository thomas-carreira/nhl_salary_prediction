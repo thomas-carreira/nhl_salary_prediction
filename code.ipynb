{
 "cells": [
  {
   "cell_type": "code",
   "execution_count": 192,
   "metadata": {},
   "outputs": [],
   "source": [
    "import pandas as pd\n",
    "import numpy as np\n",
    "\n",
    "train_set = pd.read_csv(r'train.csv')\n",
    "test_set = pd.read_csv(r'test.csv')\n",
    "x = train_set.drop(columns=[\"Id\", \"Salary\", \"DOB\", \"PIMGP\"]).to_numpy()\n",
    "y = train_set.loc[:, [\"Salary\"]].to_numpy()[:,0]\n",
    "test = test_set.drop(columns=[\"Id\", \"DOB\", \"PIMGP\"]).to_numpy()"
   ]
  },
  {
   "cell_type": "code",
   "execution_count": 193,
   "metadata": {},
   "outputs": [],
   "source": [
    "x_n = (x - x.mean(0)) / x.std(0)\n",
    "y_n = (y - y.mean()) / y.std()\n",
    "test_n = (test - test.mean(0)) / test.std(0)"
   ]
  },
  {
   "cell_type": "code",
   "execution_count": 194,
   "metadata": {},
   "outputs": [],
   "source": [
    "x_train = np.array_split(x_n, 6)\n",
    "x_test = x_train[4]\n",
    "x_eval = x_train[5]\n",
    "x_train = np.delete(x_train, [4,5], 0)\n",
    "\n",
    "y_train = np.array_split(y_n, 6)\n",
    "y_test = y_train[4]\n",
    "y_eval = y_train[5]\n",
    "y_train = np.delete(y_train, [4,5], 0)"
   ]
  },
  {
   "cell_type": "code",
   "execution_count": 195,
   "metadata": {},
   "outputs": [],
   "source": [
    "x_tr = np.concatenate(x_train, axis=0)\n",
    "x_tr = np.concatenate((x_tr, x_test), axis=0)\n",
    "y_tr = np.concatenate(y_train)\n",
    "y_tr = np.concatenate((y_tr, y_test))"
   ]
  },
  {
   "cell_type": "code",
   "execution_count": 196,
   "metadata": {},
   "outputs": [],
   "source": [
    "def get_phi(x, indexes=None, degree=1):\n",
    "    if indexes is None:\n",
    "        degrees = np.arange(degree+1)\n",
    "        phi = np.tile(x, [degree+1,1]).T\n",
    "        phi = phi**degrees\n",
    "    else:\n",
    "        phi = np.repeat(x.T[indexes], degree, axis=0)\n",
    "        degrees = []\n",
    "        for poly in degree:\n",
    "            degrees = np.append(degrees, np.linspace(1, poly, poly, dtype=int))\n",
    "        phi = phi.T**degrees\n",
    "        phi = np.c_[phi, np.ones((x.shape[0], 1))]\n",
    "    return phi"
   ]
  },
  {
   "cell_type": "code",
   "execution_count": 197,
   "metadata": {},
   "outputs": [],
   "source": [
    "def poly_regr(x, y, indexes=None, degree=1):\n",
    "    phi = get_phi(x, indexes, degree)\n",
    "    w = None\n",
    "    try :\n",
    "        w = np.linalg.inv(phi.T.dot(phi)).dot(phi.T.dot(y))\n",
    "        y_pred = phi.dot(w) \n",
    "        rmse = np.sqrt(np.sum((y - y_pred)**2)/y_pred.size)\n",
    "    except np.linalg.LinAlgError:\n",
    "        rmse = 100\n",
    "    \n",
    "    return (w, rmse)"
   ]
  },
  {
   "cell_type": "code",
   "execution_count": 198,
   "metadata": {},
   "outputs": [],
   "source": [
    "def get_best_att(x, y, x_test, y_test, nb_att_to_get, deg):\n",
    "    nb_att_in_x = x[0].shape[1]\n",
    "    indexes_best_att = np.zeros(nb_att_to_get, dtype=int)\n",
    "    best_poly_att = np.zeros(nb_att_to_get, dtype=int)\n",
    "    \n",
    "    for i in range(nb_att_to_get):\n",
    "        best_rmse = 2\n",
    "        best_att = None\n",
    "\n",
    "        for id_att in range(nb_att_in_x):\n",
    "            rmse, poly = get_best_poly(x, y, x_test, y_test, deg, id_att)\n",
    "           \n",
    "            if rmse < best_rmse and np.argwhere(indexes_best_att==id_att).size == 0:\n",
    "                best_rmse = rmse\n",
    "                best_att = id_att\n",
    "                best_poly_att[i] = poly\n",
    "        \n",
    "    \n",
    "        indexes_best_att[i] = best_att\n",
    "        \n",
    "    return indexes_best_att, best_poly_att"
   ]
  },
  {
   "cell_type": "code",
   "execution_count": 199,
   "metadata": {},
   "outputs": [],
   "source": [
    "def get_best_poly(x, y, x_test, y_test, deg, id_att):\n",
    "    best_rmse = 2\n",
    "    best_poly = None\n",
    "    \n",
    "    for poly in range(1, deg):\n",
    "        all_w = np.zeros((poly+1, len(x)))\n",
    "        \n",
    "        for i in range(len(x)):\n",
    "            w, rmse = poly_regr(x[i].T[id_att], y[i], degree=poly)\n",
    "            all_w.T[i] = w\n",
    "        \n",
    "        rmse = get_test_rmse(x_test.T[id_att], y_test, poly, all_w)\n",
    "        \n",
    "        if rmse < best_rmse:\n",
    "            best_rmse = rmse\n",
    "            best_poly = poly\n",
    "            \n",
    "    return best_rmse, best_poly"
   ]
  },
  {
   "cell_type": "code",
   "execution_count": 200,
   "metadata": {},
   "outputs": [],
   "source": [
    "def get_test_rmse(x, y, deg, all_w):\n",
    "    phi = get_phi(x, degree=deg)\n",
    "    y_pred = phi.dot(all_w)\n",
    "    y_test_pred_avg = np.mean(y_pred, axis=1)\n",
    "    rmse = np.sqrt(np.sum((y - y_test_pred_avg)**2)/y.size)\n",
    "    return rmse"
   ]
  },
  {
   "cell_type": "code",
   "execution_count": 201,
   "metadata": {},
   "outputs": [],
   "source": [
    "def get_all_w(x, y, indexes, poly):\n",
    "    all_w = np.zeros((np.sum(poly)+1, len(x)))\n",
    "\n",
    "    for i in range(len(x)):\n",
    "        w, rmse = poly_regr(x[i], y[i], indexes, poly)\n",
    "        all_w.T[i] = w\n",
    "        \n",
    "    return all_w"
   ]
  },
  {
   "cell_type": "code",
   "execution_count": 220,
   "metadata": {},
   "outputs": [
    {
     "name": "stdout",
     "output_type": "stream",
     "text": [
      "---------------------------------------------------------\n",
      "Polynomials =  [2]\n",
      "---------------------------------------------------------\n",
      "Nombre d'attributs =  1\n",
      "Variance =  0.0035729495641492904\n",
      "RMSE =  0.989023701026207\n",
      "---------------------------------------------------------\n",
      "Polynomials =  [2 1]\n",
      "---------------------------------------------------------\n",
      "Nombre d'attributs =  2\n",
      "Variance =  0.00963704873481624\n",
      "RMSE =  0.8164754783570195\n",
      "---------------------------------------------------------\n",
      "Polynomials =  [2 1 2]\n",
      "---------------------------------------------------------\n",
      "Nombre d'attributs =  3\n",
      "Variance =  0.035809249064850904\n",
      "RMSE =  0.7896241136111242\n",
      "---------------------------------------------------------\n",
      "Polynomials =  [2 1 2 3]\n",
      "---------------------------------------------------------\n",
      "Nombre d'attributs =  4\n",
      "Variance =  0.07469111563727321\n",
      "RMSE =  0.7645027617509824\n",
      "---------------------------------------------------------\n",
      "Polynomials =  [2 1 2 3 1]\n",
      "---------------------------------------------------------\n",
      "Nombre d'attributs =  5\n",
      "Variance =  0.09115870060848219\n",
      "RMSE =  0.7417109665842107\n",
      "---------------------------------------------------------\n",
      "Polynomials =  [2 1 2 3 1 1]\n",
      "---------------------------------------------------------\n",
      "Nombre d'attributs =  6\n",
      "Variance =  0.1222641959226955\n",
      "RMSE =  0.7438828752900335\n",
      "---------------------------------------------------------\n",
      "Polynomials =  [2 1 2 3 1 1 1]\n",
      "---------------------------------------------------------\n",
      "Nombre d'attributs =  7\n",
      "Variance =  0.14191625786885426\n",
      "RMSE =  0.7425562454032878\n",
      "---------------------------------------------------------\n",
      "Polynomials =  [2 1 2 3 1 1 1 3]\n",
      "---------------------------------------------------------\n",
      "Nombre d'attributs =  8\n",
      "Variance =  0.636126832866353\n",
      "RMSE =  0.6886499819920924\n",
      "---------------------------------------------------------\n",
      "Polynomials =  [2 1 2 3 1 1 1 3 3]\n",
      "---------------------------------------------------------\n",
      "Nombre d'attributs =  9\n",
      "Variance =  1.0979199634655592\n",
      "RMSE =  0.8504164263193287\n",
      "---------------------------------------------------------\n",
      "Polynomials =  [2 1 2 3 1 1 1 3 3 1]\n",
      "---------------------------------------------------------\n",
      "Nombre d'attributs =  10\n",
      "Variance =  1.203977541946735\n",
      "RMSE =  0.8655910651402182\n",
      "---------------------------------------------------------\n",
      "Polynomials =  [2 1 2 3 1 1 1 3 3 1 2]\n",
      "---------------------------------------------------------\n",
      "Nombre d'attributs =  11\n",
      "Variance =  1.5042649232482799\n",
      "RMSE =  0.918210428007107\n",
      "---------------------------------------------------------\n",
      "Polynomials =  [2 1 2 3 1 1 1 3 3 1 2 1]\n",
      "---------------------------------------------------------\n",
      "Nombre d'attributs =  12\n",
      "Variance =  1.10332653441878\n",
      "RMSE =  0.8646948712541678\n",
      "---------------------------------------------------------\n",
      "Polynomials =  [2 1 2 3 1 1 1 3 3 1 2 1 2]\n",
      "---------------------------------------------------------\n",
      "Nombre d'attributs =  13\n",
      "Variance =  1.0875354833594761\n",
      "RMSE =  0.9091982021322221\n",
      "---------------------------------------------------------\n",
      "Polynomials =  [2 1 2 3 1 1 1 3 3 1 2 1 2 3]\n",
      "---------------------------------------------------------\n",
      "Nombre d'attributs =  14\n",
      "Variance =  0.9032617519523781\n",
      "RMSE =  0.8830534614141298\n"
     ]
    }
   ],
   "source": [
    "deg = 4\n",
    "nb_att_to_get = 15\n",
    "\n",
    "for nb_att in range(1, nb_att_to_get):\n",
    "    indexes, poly = get_best_att(x_train, y_train, x_test, y_test, nb_att, deg)\n",
    "    print('---------------------------------------------------------')\n",
    "    print('Polynomials = ', poly)\n",
    "    all_w = get_all_w(x_train, y_train, indexes, poly)\n",
    "    phi = get_phi(x_eval, indexes, poly)\n",
    "    y_pred = phi.dot(all_w)\n",
    "    y_test_pred_avg = np.mean(y_pred, axis=1)\n",
    "    rmse = np.sqrt(np.sum((y_eval - y_test_pred_avg)**2)/y_test.size)\n",
    "    var_avg = np.mean(np.var(y_pred, axis=1))\n",
    "\n",
    "    print('---------------------------------------------------------')\n",
    "    print('Nombre d\\'attributs = ', nb_att)\n",
    "    print('Variance = ', var_avg)\n",
    "    print('RMSE = ', rmse)\n",
    "    "
   ]
  },
  {
   "cell_type": "code",
   "execution_count": 226,
   "metadata": {},
   "outputs": [],
   "source": [
    "def get_best_att_combination(x_train, y_train, x_test, y_test, indexes, poly):\n",
    "    nb_colums = len(indexes)\n",
    "    best_rmse = 2\n",
    "    best_rmse_var = None\n",
    "    best_ids = None\n",
    "    best_var = 2\n",
    "    best_var_rmse = None\n",
    "    best_ids_var = None\n",
    "    \n",
    "    for id_first in range(nb_colums):\n",
    "        for id_second in range(nb_colums):\n",
    "            if id_second != id_first:\n",
    "                for id_third in range(nb_colums):\n",
    "                    if id_third != id_second and id_third != id_first:\n",
    "                        for id_fourth in range(nb_colums):\n",
    "                            if id_fourth != id_third and id_fourth != id_second and id_fourth != id_first:\n",
    "                                ids = [id_first, id_second, id_third, id_fourth]\n",
    "                                all_w = get_all_w(x_train, y_train, indexes[ids], poly[ids])\n",
    "                                phi = get_phi(x_test, indexes[ids], poly[ids])\n",
    "                                y_pred = phi.dot(all_w)\n",
    "                                y_test_pred_avg = np.mean(y_pred, axis=1)\n",
    "                                var_avg = np.mean(np.var(y_pred, axis=1))\n",
    "                                \n",
    "                                rmse = np.sqrt(np.sum((y_test - y_test_pred_avg)**2)/y_test.size)\n",
    "                                if var_avg < best_var:\n",
    "#                                     print('--------------------------Best Variance---------------------------')\n",
    "#                                     print('Variance =', var_avg)\n",
    "#                                     print('RMSE =', rmse)\n",
    "                                    best_var = var_avg\n",
    "                                    best_var_rmse = rmse\n",
    "                                    best_ids_var = ids\n",
    "#                                 w, rmse = poly_regr(x_train, y_train, indexes[ids], poly[ids])\n",
    "#                                 phi = get_phi(x_test, indexes[ids], poly[ids])\n",
    "#                                 y_pred = phi.dot(w)\n",
    "#                                 rmse = np.sqrt(np.sum((y_test - y_pred)**2)/y_test.size)\n",
    "                                if rmse < best_rmse:\n",
    "#                                     print('--------------------------Best RMSE---------------------------')\n",
    "#                                     print('Variance =', var_avg)\n",
    "#                                     print('RMSE =', rmse)\n",
    "                                    best_rmse = rmse\n",
    "                                    best_rmse_var = var_avg\n",
    "                                    best_ids = ids\n",
    "    \n",
    "    print('Best RMSE =', best_rmse)\n",
    "    print('Variance du best RMSE =', best_rmse_var)\n",
    "    print('RMSE de la meilleure variance =', best_var_rmse)\n",
    "    print('Meilleure variance =',best_var)\n",
    "    return best_ids, best_ids_var"
   ]
  },
  {
   "cell_type": "code",
   "execution_count": 227,
   "metadata": {},
   "outputs": [
    {
     "name": "stdout",
     "output_type": "stream",
     "text": [
      "[14  2 13  6  8  1  5 12 11  7]\n",
      "[2 1 2 3 1 1 1 3 3 1]\n"
     ]
    }
   ],
   "source": [
    "indexes, poly = get_best_att(x_train, y_train, x_test, y_test, 10, 4)\n",
    "print(indexes)\n",
    "print(poly)"
   ]
  },
  {
   "cell_type": "code",
   "execution_count": 228,
   "metadata": {
    "scrolled": false
   },
   "outputs": [
    {
     "name": "stdout",
     "output_type": "stream",
     "text": [
      "Best RMSE = 0.45401100811318884\n",
      "Variance du best RMSE = 0.0894762355713221\n",
      "RMSE de la meilleure variance = 0.47824079106949235\n",
      "Meilleure variance = 0.016141735910692036\n",
      "[5, 6, 0, 8]\n"
     ]
    }
   ],
   "source": [
    "ids, ids_var = get_best_att_combination(x_train, y_train, x_test, y_test, indexes, poly)\n",
    "print(ids)"
   ]
  },
  {
   "cell_type": "code",
   "execution_count": 229,
   "metadata": {},
   "outputs": [
    {
     "name": "stdout",
     "output_type": "stream",
     "text": [
      "Variance = 0.059552707160040644\n",
      "RMSE = 0.7517990169789897\n",
      "RMSE without cross-validation = 0.755416031033919\n"
     ]
    }
   ],
   "source": [
    "all_w = get_all_w(x_train, y_train, indexes[ids], poly[ids])\n",
    "phi = get_phi(x_eval, indexes[ids], poly[ids])\n",
    "y_pred = phi.dot(all_w)\n",
    "y_test_pred_avg = np.mean(y_pred, axis=1)\n",
    "var_avg = np.mean(np.var(y_pred, axis=1))\n",
    "print('Variance =', var_avg)\n",
    "rmse = np.sqrt(np.sum((y_eval - y_test_pred_avg)**2)/y_test.size)\n",
    "print('RMSE =', rmse)\n",
    "\n",
    "w, rmse = poly_regr(x_tr, y_tr, indexes[ids], poly[ids])\n",
    "y_pred = phi.dot(w)\n",
    "rmse = np.sqrt(np.sum((y_eval - y_pred)**2)/y_test.size)\n",
    "print('RMSE without cross-validation =', rmse)"
   ]
  },
  {
   "cell_type": "code",
   "execution_count": null,
   "metadata": {},
   "outputs": [],
   "source": [
    "# Variance = 0.059552707160040644\n",
    "# RMSE = 0.7517990169789897\n",
    "# RMSE without cross-validation = 0.755416031033919\n",
    "\n",
    "# Pas de limitation\n",
    "# Variance = 2.815481153482154\n",
    "# RMSE = 1.4061630209343945\n",
    "# RMSE without cross-validation = 0.7808409916523522"
   ]
  },
  {
   "cell_type": "code",
   "execution_count": 232,
   "metadata": {},
   "outputs": [
    {
     "name": "stdout",
     "output_type": "stream",
     "text": [
      "Variance = 0.01963166663906059\n",
      "RMSE = 0.7555692580353129\n",
      "RMSE without cross-validation = 0.741282691131884\n"
     ]
    }
   ],
   "source": [
    "all_w = get_all_w(x_train, y_train, indexes[ids_var], poly[ids_var])\n",
    "phi = get_phi(x_eval, indexes[ids_var], poly[ids_var])\n",
    "y_pred = phi.dot(all_w)\n",
    "y_test_pred_avg = np.mean(y_pred, axis=1)\n",
    "var_avg = np.mean(np.var(y_pred, axis=1))\n",
    "print('Variance =', var_avg)\n",
    "rmse = np.sqrt(np.sum((y_eval - y_test_pred_avg)**2)/y_test.size)\n",
    "print('RMSE =', rmse)\n",
    "\n",
    "w, rmse = poly_regr(x_tr, y_tr, indexes[ids_var], poly[ids_var])\n",
    "y_pred = phi.dot(w)\n",
    "rmse = np.sqrt(np.sum((y_eval - y_pred)**2)/y_test.size)\n",
    "print('RMSE without cross-validation =', rmse)"
   ]
  },
  {
   "cell_type": "code",
   "execution_count": null,
   "metadata": {},
   "outputs": [],
   "source": [
    "# Variance = 0.01963166663906059\n",
    "# RMSE = 0.7555692580353129\n",
    "# RMSE without cross-validation = 0.741282691131884\n",
    "\n",
    "# Pas de limitation\n",
    "# Variance = 0.050255402411157994\n",
    "# RMSE = 0.7841425385895091\n",
    "# RMSE without cross-validation = 0.7781391605717576"
   ]
  },
  {
   "cell_type": "code",
   "execution_count": 233,
   "metadata": {},
   "outputs": [],
   "source": [
    "w, rmse = poly_regr(x_n, y_n, indexes[ids_var], poly[ids_var])"
   ]
  },
  {
   "cell_type": "code",
   "execution_count": 234,
   "metadata": {},
   "outputs": [],
   "source": [
    "def test_data(x, y, all_w, indexes, degree=1):\n",
    "    phi = get_phi(x, indexes, degree)\n",
    "    y_pred_n = phi.dot(all_w)\n",
    "    #y_test_pred_avg = np.mean(y_pred_n, axis=1)\n",
    "    y_pred = (y.std() * y_pred_n) + y.mean()\n",
    "    \n",
    "    #var_avg = np.mean(np.var(y_pred, axis=1))\n",
    "    #print(var_avg)\n",
    "    \n",
    "    return y_pred"
   ]
  },
  {
   "cell_type": "code",
   "execution_count": 235,
   "metadata": {},
   "outputs": [],
   "source": [
    "y_pred = test_data(test_n, y, w, indexes[ids_var], poly[ids_var])"
   ]
  },
  {
   "cell_type": "code",
   "execution_count": 236,
   "metadata": {},
   "outputs": [],
   "source": [
    "df = pd.DataFrame({\"Id\": range(y_pred.size), \"Salary\": y_pred})\n",
    "compression_opts = dict(method='zip', archive_name='out.csv') \n",
    "df.to_csv('sampleSubmission.zip', index=False, compression=compression_opts)"
   ]
  },
  {
   "cell_type": "code",
   "execution_count": null,
   "metadata": {},
   "outputs": [],
   "source": []
  }
 ],
 "metadata": {
  "kernelspec": {
   "display_name": "Python 3",
   "language": "python",
   "name": "python3"
  },
  "language_info": {
   "codemirror_mode": {
    "name": "ipython",
    "version": 3
   },
   "file_extension": ".py",
   "mimetype": "text/x-python",
   "name": "python",
   "nbconvert_exporter": "python",
   "pygments_lexer": "ipython3",
   "version": "3.8.5"
  }
 },
 "nbformat": 4,
 "nbformat_minor": 4
}
