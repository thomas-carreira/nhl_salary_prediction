{
 "cells": [
  {
   "cell_type": "code",
   "execution_count": 21,
   "metadata": {},
   "outputs": [],
   "source": [
    "import pandas as pd\n",
    "import numpy as np\n",
    "\n",
    "train_set = pd.read_csv(r'train.csv')\n",
    "test_set = pd.read_csv(r'test.csv')\n",
    "x = train_set.drop(columns=[\"Id\", \"Salary\", \"DOB\", \"PIMGP\"]).to_numpy()\n",
    "y = train_set.loc[:, [\"Salary\"]].to_numpy()[:,0]\n",
    "test = test_set.drop(columns=[\"Id\", \"DOB\", \"PIMGP\"]).to_numpy()"
   ]
  },
  {
   "cell_type": "code",
   "execution_count": 22,
   "metadata": {},
   "outputs": [],
   "source": [
    "x_n = (x - x.mean(0)) / x.std(0)\n",
    "y_n = (y - y.mean()) / y.std()\n",
    "test_n = (test - test.mean(0)) / test.std(0)"
   ]
  },
  {
   "cell_type": "code",
   "execution_count": 23,
   "metadata": {},
   "outputs": [],
   "source": [
    "x_train = np.array_split(x_n, 6)\n",
    "x_test = x_train[5]\n",
    "x_train = np.delete(x_train, 5, 0)\n",
    "\n",
    "y_train = np.array_split(y_n, 6)\n",
    "y_test = y_train[5]\n",
    "y_train = np.delete(y_train, 5, 0)"
   ]
  },
  {
   "cell_type": "code",
   "execution_count": 24,
   "metadata": {},
   "outputs": [],
   "source": [
    "def get_phi(x, indexes=None, degree=1):\n",
    "    if indexes is None:\n",
    "        degrees = np.arange(degree+1)\n",
    "        phi = np.tile(x, [degree+1,1]).T\n",
    "        phi = phi**degrees\n",
    "    else:\n",
    "        phi = np.repeat(x.T[indexes], degree, axis=0)\n",
    "        degrees = []\n",
    "        for poly in degree:\n",
    "            degrees = np.append(degrees, np.linspace(1, poly, poly, dtype=int))\n",
    "        phi = phi.T**degrees\n",
    "        phi = np.c_[phi, np.ones((x.shape[0], 1))]\n",
    "    return phi"
   ]
  },
  {
   "cell_type": "code",
   "execution_count": 25,
   "metadata": {},
   "outputs": [],
   "source": [
    "def poly_regr(x, y, indexes=None, degree=1):\n",
    "    phi = get_phi(x, indexes, degree)\n",
    "    w = None\n",
    "    try :\n",
    "        w = np.linalg.inv(phi.T.dot(phi)).dot(phi.T.dot(y))\n",
    "        y_pred = phi.dot(w) \n",
    "        rmse = np.sqrt(np.sum((y - y_pred)**2)/y_pred.size)\n",
    "    except np.linalg.LinAlgError:\n",
    "        rmse = 100\n",
    "    \n",
    "    return (w, rmse)"
   ]
  },
  {
   "cell_type": "code",
   "execution_count": 26,
   "metadata": {},
   "outputs": [],
   "source": [
    "def get_best_att(x, y, x_test, y_test, nb_att_to_get, deg):\n",
    "    nb_att_in_x = x[0].shape[1]\n",
    "    indexes_best_att = np.zeros(nb_att_to_get, dtype=int)\n",
    "    best_poly_att = np.zeros(nb_att_to_get, dtype=int)\n",
    "    \n",
    "    for i in range(nb_att_to_get):\n",
    "        best_rmse = 2\n",
    "        best_att = None\n",
    "\n",
    "        for id_att in range(nb_att_in_x):\n",
    "            rmse, poly = get_best_poly(x, y, x_test, y_test, deg, id_att)\n",
    "           \n",
    "            if rmse < best_rmse and np.argwhere(indexes_best_att==id_att).size == 0:\n",
    "                best_rmse = rmse\n",
    "                best_att = id_att\n",
    "                best_poly_att[i] = poly\n",
    "        \n",
    "    \n",
    "        indexes_best_att[i] = best_att\n",
    "        \n",
    "    return indexes_best_att, best_poly_att"
   ]
  },
  {
   "cell_type": "code",
   "execution_count": 27,
   "metadata": {},
   "outputs": [],
   "source": [
    "def get_best_poly(x, y, x_test, y_test, deg, id_att):\n",
    "    best_rmse = 2\n",
    "    best_poly = None\n",
    "    \n",
    "    for poly in range(1, deg):\n",
    "        all_w = np.zeros((poly+1, len(x)))\n",
    "        \n",
    "        for i in range(len(x)):\n",
    "            w, rmse = poly_regr(x[i].T[id_att], y[i], degree=poly)\n",
    "            all_w.T[i] = w\n",
    "        \n",
    "        rmse = get_test_rmse(x_test.T[id_att], y_test, poly, all_w)\n",
    "        \n",
    "        if rmse < best_rmse:\n",
    "            best_rmse = rmse\n",
    "            best_poly = poly\n",
    "    \n",
    "    return best_rmse, best_poly"
   ]
  },
  {
   "cell_type": "code",
   "execution_count": 28,
   "metadata": {},
   "outputs": [],
   "source": [
    "def get_test_rmse(x, y, deg, all_w):\n",
    "    phi = get_phi(x, degree=deg)\n",
    "    y_pred = phi.dot(all_w)\n",
    "    y_test_pred_avg = np.mean(y_pred, axis=1)\n",
    "    rmse = np.sqrt(np.sum((y - y_test_pred_avg)**2)/y.size)\n",
    "    return rmse"
   ]
  },
  {
   "cell_type": "code",
   "execution_count": 29,
   "metadata": {},
   "outputs": [],
   "source": [
    "def get_all_w(x, y, indexes, poly):\n",
    "    all_w = np.zeros((np.sum(poly)+1, len(x)))\n",
    "\n",
    "    for i in range(len(x)):\n",
    "        w, rmse = poly_regr(x[i], y[i], indexes, poly)\n",
    "        all_w.T[i] = w\n",
    "        \n",
    "    return all_w"
   ]
  },
  {
   "cell_type": "code",
   "execution_count": 13,
   "metadata": {
    "scrolled": true
   },
   "outputs": [
    {
     "name": "stdout",
     "output_type": "stream",
     "text": [
      "---------------------------------------------------------\n",
      "Polynomials =  [1]\n",
      "---------------------------------------------------------\n",
      "Nombre d'attributs =  1\n",
      "Variance =  0.02179876293750828\n",
      "RMSE =  0.7851596940676735\n",
      "---------------------------------------------------------\n",
      "Polynomials =  [1 2]\n",
      "---------------------------------------------------------\n",
      "Nombre d'attributs =  2\n",
      "Variance =  0.1481884347217635\n",
      "RMSE =  0.7571214807742919\n",
      "---------------------------------------------------------\n",
      "Polynomials =  [1 2 2]\n",
      "---------------------------------------------------------\n",
      "Nombre d'attributs =  3\n",
      "Variance =  0.15379712690270989\n",
      "RMSE =  0.7403691575825437\n",
      "---------------------------------------------------------\n",
      "Polynomials =  [1 2 2 1]\n",
      "---------------------------------------------------------\n",
      "Nombre d'attributs =  4\n",
      "Variance =  0.19932737219577565\n",
      "RMSE =  0.7255384721167633\n",
      "---------------------------------------------------------\n",
      "Polynomials =  [1 2 2 1 1]\n",
      "---------------------------------------------------------\n",
      "Nombre d'attributs =  5\n",
      "Variance =  0.23613053300579642\n",
      "RMSE =  0.7288113594335288\n",
      "---------------------------------------------------------\n",
      "Polynomials =  [1 2 2 1 1 3]\n",
      "---------------------------------------------------------\n",
      "Nombre d'attributs =  6\n",
      "Variance =  0.2709683147931321\n",
      "RMSE =  0.7423571465029805\n",
      "---------------------------------------------------------\n",
      "Polynomials =  [1 2 2 1 1 3 1]\n",
      "---------------------------------------------------------\n",
      "Nombre d'attributs =  7\n",
      "Variance =  0.27600550957659403\n",
      "RMSE =  0.7442016155049652\n",
      "---------------------------------------------------------\n",
      "Polynomials =  [1 2 2 1 1 3 1 6]\n",
      "---------------------------------------------------------\n",
      "Nombre d'attributs =  8\n",
      "Variance =  0.6598414535889218\n",
      "RMSE =  0.7228308955662246\n",
      "---------------------------------------------------------\n",
      "Polynomials =  [1 2 2 1 1 3 1 6 2]\n",
      "---------------------------------------------------------\n",
      "Nombre d'attributs =  9\n",
      "Variance =  0.7461944602831924\n",
      "RMSE =  0.7199841646702753\n",
      "---------------------------------------------------------\n",
      "Polynomials =  [1 2 2 1 1 3 1 6 2 5]\n",
      "---------------------------------------------------------\n",
      "Nombre d'attributs =  10\n",
      "Variance =  0.8108136173683705\n",
      "RMSE =  0.6345066540672862\n",
      "---------------------------------------------------------\n",
      "Polynomials =  [1 2 2 1 1 3 1 6 2 5 2]\n",
      "---------------------------------------------------------\n",
      "Nombre d'attributs =  11\n",
      "Variance =  1.1171728573234259\n",
      "RMSE =  0.6291683085517618\n",
      "---------------------------------------------------------\n",
      "Polynomials =  [1 2 2 1 1 3 1 6 2 5 2 5]\n",
      "---------------------------------------------------------\n",
      "Nombre d'attributs =  12\n",
      "Variance =  2.959053524496121\n",
      "RMSE =  0.7283514244497915\n",
      "---------------------------------------------------------\n",
      "Polynomials =  [1 2 2 1 1 3 1 6 2 5 2 5 1]\n",
      "---------------------------------------------------------\n",
      "Nombre d'attributs =  13\n",
      "Variance =  11338.915435107378\n",
      "RMSE =  53.288866167764944\n",
      "---------------------------------------------------------\n",
      "Polynomials =  [1 2 2 1 1 3 1 6 2 5 2 5 1 1]\n",
      "---------------------------------------------------------\n",
      "Nombre d'attributs =  14\n",
      "Variance =  22.48504384369482\n",
      "RMSE =  2.4717548754452627\n"
     ]
    }
   ],
   "source": [
    "deg = 20\n",
    "nb_att_to_get = 15\n",
    "\n",
    "for nb_att in range(1, nb_att_to_get):\n",
    "    indexes, poly = get_best_att(x_train, y_train, x_test, y_test, nb_att, deg)\n",
    "    print('---------------------------------------------------------')\n",
    "    print('Polynomials = ', poly)\n",
    "    all_w = get_all_w(x_train, y_train, indexes, poly)\n",
    "    phi = get_phi(x_test, indexes, poly)\n",
    "    y_pred = phi.dot(all_w)\n",
    "    y_test_pred_avg = np.mean(y_pred, axis=1)\n",
    "    rmse = np.sqrt(np.sum((y_test - y_test_pred_avg)**2)/y_test.size)\n",
    "    var_avg = np.mean(np.var(y_pred, axis=1))\n",
    "\n",
    "    print('---------------------------------------------------------')\n",
    "    print('Nombre d\\'attributs = ', nb_att)\n",
    "    print('Variance = ', var_avg)\n",
    "    print('RMSE = ', rmse)\n",
    "    "
   ]
  },
  {
   "cell_type": "code",
   "execution_count": 30,
   "metadata": {},
   "outputs": [
    {
     "name": "stdout",
     "output_type": "stream",
     "text": [
      "0.7079516787816333\n"
     ]
    }
   ],
   "source": [
    "indexes, poly = get_best_att(x_train, y_train, x_test, y_test, 4, 10)\n",
    "w, rmse = poly_regr(x_n, y_n, indexes, poly)\n",
    "print(rmse)"
   ]
  },
  {
   "cell_type": "code",
   "execution_count": 31,
   "metadata": {},
   "outputs": [],
   "source": [
    "def test_data(x, y, all_w, indexes, degree=1):\n",
    "    phi = get_phi(x, indexes, degree)\n",
    "    y_pred_n = phi.dot(all_w)\n",
    "    #y_test_pred_avg = np.mean(y_pred_n, axis=1)\n",
    "    y_pred = (y.std() * y_pred_n) + y.mean()\n",
    "    \n",
    "    return y_pred"
   ]
  },
  {
   "cell_type": "code",
   "execution_count": 32,
   "metadata": {},
   "outputs": [],
   "source": [
    "y_pred = test_data(test_n, y, w, indexes, poly)"
   ]
  },
  {
   "cell_type": "code",
   "execution_count": 33,
   "metadata": {},
   "outputs": [],
   "source": [
    "df = pd.DataFrame({\"Id\": range(y_pred.size), \"Salary\": y_pred})\n",
    "compression_opts = dict(method='zip', archive_name='out.csv') \n",
    "df.to_csv('sampleSubmission.zip', index=False, compression=compression_opts)"
   ]
  },
  {
   "cell_type": "code",
   "execution_count": 219,
   "metadata": {},
   "outputs": [],
   "source": [
    "# 0.45847234649673924"
   ]
  }
 ],
 "metadata": {
  "kernelspec": {
   "display_name": "Python 3",
   "language": "python",
   "name": "python3"
  },
  "language_info": {
   "codemirror_mode": {
    "name": "ipython",
    "version": 3
   },
   "file_extension": ".py",
   "mimetype": "text/x-python",
   "name": "python",
   "nbconvert_exporter": "python",
   "pygments_lexer": "ipython3",
   "version": "3.8.5"
  }
 },
 "nbformat": 4,
 "nbformat_minor": 4
}
