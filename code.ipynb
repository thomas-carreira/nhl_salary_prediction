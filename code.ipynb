{
 "cells": [
  {
   "cell_type": "code",
   "execution_count": 18,
   "metadata": {},
   "outputs": [],
   "source": [
    "import pandas as pd\n",
    "import numpy as np\n",
    "\n",
    "train_set = pd.read_csv(r'train.csv')\n",
    "test_set = pd.read_csv(r'test.csv')\n",
    "x = train_set.loc[:, [\"PPP\"]].to_numpy()[:,0]\n",
    "y = train_set.loc[:, [\"Salary\"]].to_numpy()[:,0]\n",
    "test = test_set.loc[:, [\"PPP\"]].to_numpy()[:,0]"
   ]
  },
  {
   "cell_type": "code",
   "execution_count": 27,
   "metadata": {},
   "outputs": [],
   "source": [
    "x_n = (x - x.mean()) / x.std()\n",
    "y_n = (y - y.mean()) / y.std()\n",
    "test_n = (test - test.mean()) / test.std()"
   ]
  },
  {
   "cell_type": "code",
   "execution_count": 20,
   "metadata": {},
   "outputs": [],
   "source": [
    "def format_phi(x, degree):\n",
    "    degrees = np.arange(degree+1)\n",
    "    phi = np.tile(x, [degree+1,1]).T\n",
    "    phi = phi**degrees\n",
    "    \n",
    "    return phi"
   ]
  },
  {
   "cell_type": "code",
   "execution_count": 21,
   "metadata": {},
   "outputs": [],
   "source": [
    "def poly_regr(x,y,degree):\n",
    "    phi = format_phi(x, degree)\n",
    "    \n",
    "    w = np.linalg.inv(phi.T.dot(phi)).dot(phi.T.dot(y))\n",
    "    y_pred = phi.dot(w) \n",
    "    rmse = np.sqrt(np.sum((y - y_pred)**2)/y_pred.size)\n",
    "    \n",
    "    return (w , rmse)"
   ]
  },
  {
   "cell_type": "code",
   "execution_count": 22,
   "metadata": {},
   "outputs": [],
   "source": [
    "def get_best_poly(x, y, max_degree):\n",
    "    best_w = None\n",
    "    best_rmse = 1\n",
    "    best_degree = None\n",
    "    \n",
    "    for degree in range(max_degree):\n",
    "        w, rmse = poly_regr(x,y,degree)\n",
    "        if (rmse < best_rmse):\n",
    "            best_rmse = rmse\n",
    "            best_w = w\n",
    "            best_degree = degree\n",
    "    \n",
    "    return (best_w, best_rmse, best_degree)"
   ]
  },
  {
   "cell_type": "code",
   "execution_count": 23,
   "metadata": {},
   "outputs": [
    {
     "name": "stdout",
     "output_type": "stream",
     "text": [
      "Best degree:  11\n",
      "Best RMSE:  0.7365482398712543\n"
     ]
    }
   ],
   "source": [
    "w, rmse, degree = get_best_poly(x_n, y_n, 30)\n",
    "print('Best degree: ', degree)\n",
    "print('Best RMSE: ', rmse)"
   ]
  },
  {
   "cell_type": "code",
   "execution_count": 24,
   "metadata": {},
   "outputs": [],
   "source": [
    "def test_data(x, y, w, degree):\n",
    "    phi = format_phi(x, degree)\n",
    "    y_pred_n = phi.dot(w)\n",
    "    y_pred = (y.std() * y_pred_n) + y.mean()\n",
    "    \n",
    "    return y_pred"
   ]
  },
  {
   "cell_type": "code",
   "execution_count": 28,
   "metadata": {},
   "outputs": [],
   "source": [
    "y_pred = test_data(test_n, y, w, degree)"
   ]
  },
  {
   "cell_type": "code",
   "execution_count": 9,
   "metadata": {},
   "outputs": [],
   "source": [
    "df = pd.DataFrame({\"Id\": range(y_pred.size), \"Salary\": y_pred})\n",
    "compression_opts = dict(method='zip', archive_name='out.csv') \n",
    "df.to_csv('sampleSubmission.zip', index=False, compression=compression_opts)"
   ]
  },
  {
   "cell_type": "code",
   "execution_count": 10,
   "metadata": {},
   "outputs": [],
   "source": [
    "# 0.7486788923831885\n"
   ]
  }
 ],
 "metadata": {
  "kernelspec": {
   "display_name": "Python 3",
   "language": "python",
   "name": "python3"
  },
  "language_info": {
   "codemirror_mode": {
    "name": "ipython",
    "version": 3
   },
   "file_extension": ".py",
   "mimetype": "text/x-python",
   "name": "python",
   "nbconvert_exporter": "python",
   "pygments_lexer": "ipython3",
   "version": "3.8.5"
  }
 },
 "nbformat": 4,
 "nbformat_minor": 4
}
