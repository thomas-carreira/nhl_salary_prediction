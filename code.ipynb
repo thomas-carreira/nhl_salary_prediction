{
 "cells": [
  {
   "cell_type": "code",
   "execution_count": 356,
   "metadata": {},
   "outputs": [],
   "source": [
    "import pandas as pd\n",
    "import numpy as np\n",
    "\n",
    "train_set = pd.read_csv(r'train.csv')\n",
    "test_set = pd.read_csv(r'test.csv')\n",
    "x = train_set.drop(columns=[\"Id\", \"Salary\", \"DOB\", \"PIMGP\"]).to_numpy()\n",
    "y = train_set.loc[:, [\"Salary\"]].to_numpy()[:,0]\n",
    "test = test_set.drop(columns=[\"Id\", \"DOB\", \"PIMGP\"]).to_numpy()"
   ]
  },
  {
   "cell_type": "code",
   "execution_count": 357,
   "metadata": {},
   "outputs": [],
   "source": [
    "x_n = (x - x.mean(0)) / x.std(0)\n",
    "y_n = (y - y.mean()) / y.std()\n",
    "test_n = (test - test.mean(0)) / test.std(0)"
   ]
  },
  {
   "cell_type": "code",
   "execution_count": 358,
   "metadata": {},
   "outputs": [],
   "source": [
    "def get_phi(x, indexes=None, degree=1):\n",
    "    if degree == 1:\n",
    "        degrees = np.arange(degree+1)\n",
    "        phi = np.tile(x, [degree+1,1]).T\n",
    "        phi = phi**degrees\n",
    "    else:\n",
    "        phi = np.append(np.ones((1, x.shape[0])), x.T[indexes], axis=0).T\n",
    "        phi = np.tile(x.T[indexes], [degree,1])\n",
    "        degrees = np.linspace(1, degree+1, phi.shape[0]+1, dtype=int)\n",
    "        degrees = np.delete(degrees, phi.shape[0])\n",
    "        phi = phi.T**degrees\n",
    "    \n",
    "    return phi"
   ]
  },
  {
   "cell_type": "code",
   "execution_count": 359,
   "metadata": {},
   "outputs": [],
   "source": [
    "def poly_regr(x, y, indexes=None, degree=1):\n",
    "    phi = get_phi(x, indexes, degree)\n",
    "    w = None\n",
    "    try :\n",
    "        w = np.linalg.inv(phi.T.dot(phi)).dot(phi.T.dot(y))\n",
    "        y_pred = phi.dot(w) \n",
    "        rmse = np.sqrt(np.sum((y - y_pred)**2)/y_pred.size)\n",
    "    except np.linalg.LinAlgError:\n",
    "        rmse = 100\n",
    "    return (w , rmse)"
   ]
  },
  {
   "cell_type": "code",
   "execution_count": 360,
   "metadata": {},
   "outputs": [],
   "source": [
    "def get_best_attributes(x, y, degree, nb_max_attributes):\n",
    "    x = x.T\n",
    "    best_attributes = np.full((nb_max_attributes), -1)\n",
    "\n",
    "    for i in range(nb_max_attributes):\n",
    "        best_rmse = 2\n",
    "        id_best_rmse = None\n",
    "        for j in range(x.shape[0]):\n",
    "            w, rmse = poly_regr(x[j], y)\n",
    "            if rmse < best_rmse and np.argwhere(best_attributes==j).size == 0 :\n",
    "                best_rmse = rmse\n",
    "                id_best_rmse = j\n",
    "        best_attributes[i] = id_best_rmse\n",
    "\n",
    "    return best_attributes"
   ]
  },
  {
   "cell_type": "code",
   "execution_count": 361,
   "metadata": {
    "scrolled": false
   },
   "outputs": [
    {
     "name": "stdout",
     "output_type": "stream",
     "text": [
      "0.556122848172312\n"
     ]
    }
   ],
   "source": [
    "degree = 3\n",
    "nb_attributes = 20\n",
    "\n",
    "indexes = get_best_attributes(x_n, y_n, degree, nb_attributes)\n",
    "w, rmse = poly_regr(x_n, y_n, best_attributes, degree)\n",
    "\n",
    "print(rmse)"
   ]
  },
  {
   "cell_type": "code",
   "execution_count": 362,
   "metadata": {},
   "outputs": [],
   "source": [
    "def test_data(x, y, w, indexes, degree=1):\n",
    "    phi = get_phi(x, indexes, degree)\n",
    "    y_pred_n = phi.dot(w)\n",
    "    y_pred = (y.std() * y_pred_n) + y.mean()\n",
    "    \n",
    "    return y_pred"
   ]
  },
  {
   "cell_type": "code",
   "execution_count": 363,
   "metadata": {},
   "outputs": [],
   "source": [
    "y_pred = test_data(test_n, y, w, best_attributes, degree)"
   ]
  },
  {
   "cell_type": "code",
   "execution_count": 364,
   "metadata": {},
   "outputs": [],
   "source": [
    "df = pd.DataFrame({\"Id\": range(y_pred.size), \"Salary\": y_pred})\n",
    "compression_opts = dict(method='zip', archive_name='out.csv') \n",
    "df.to_csv('sampleSubmission.zip', index=False, compression=compression_opts)"
   ]
  },
  {
   "cell_type": "code",
   "execution_count": 219,
   "metadata": {},
   "outputs": [],
   "source": [
    "# 0.7486788923831885\n",
    "# 0.6411587970232053\n",
    "# 0.556122848172312"
   ]
  }
 ],
 "metadata": {
  "kernelspec": {
   "display_name": "Python 3",
   "language": "python",
   "name": "python3"
  },
  "language_info": {
   "codemirror_mode": {
    "name": "ipython",
    "version": 3
   },
   "file_extension": ".py",
   "mimetype": "text/x-python",
   "name": "python",
   "nbconvert_exporter": "python",
   "pygments_lexer": "ipython3",
   "version": "3.8.5"
  }
 },
 "nbformat": 4,
 "nbformat_minor": 4
}
